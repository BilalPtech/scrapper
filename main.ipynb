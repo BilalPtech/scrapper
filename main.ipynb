{
 "cells": [
  {
   "cell_type": "code",
   "execution_count": null,
   "metadata": {},
   "outputs": [],
   "source": [
    "! pip install beautifulsoup4"
   ]
  },
  {
   "cell_type": "code",
   "execution_count": 141,
   "metadata": {},
   "outputs": [],
   "source": [
    "import requests\n",
    "from bs4 import BeautifulSoup, NavigableString\n",
    "import bs4\n",
    "import re"
   ]
  },
  {
   "cell_type": "code",
   "execution_count": 7,
   "metadata": {},
   "outputs": [
    {
     "data": {
      "text/plain": [
       "200"
      ]
     },
     "execution_count": 7,
     "metadata": {},
     "output_type": "execute_result"
    }
   ],
   "source": [
    "response = requests.get(\"https://www.pimlicoplumbers.com/\")\n",
    "response.status_code"
   ]
  },
  {
   "cell_type": "code",
   "execution_count": null,
   "metadata": {},
   "outputs": [],
   "source": [
    "soup = BeautifulSoup(response.content, 'lxml')\n",
    "site_header = soup.find('header')\n",
    "bar = site_header.find('div', {\"class\":\"navbar-wrapper mobile-header\"})\n",
    "menu = bar.find('ul', {'id':'main-menu'})"
   ]
  },
  {
   "cell_type": "code",
   "execution_count": 50,
   "metadata": {},
   "outputs": [
    {
     "name": "stdout",
     "output_type": "stream",
     "text": [
      "['plumbing', 'heating', 'electrics', 'drains', 'carpentry', 'roofing', 'building', 'bathrooms', 'Handyman', 'commercial']\n"
     ]
    }
   ],
   "source": [
    "base_url = 'https://www.pimlicoplumbers.com/services/'\n",
    "a = menu.find_all('a',{'class':'nav-link'})\n",
    "services = []\n",
    "for i in a:\n",
    "    if i.text != 'Air Con ':\n",
    "        services.append(i.text)\n",
    "\n",
    "servs = []\n",
    "for string in services:\n",
    "    if not string in ['Home','Handyman']:\n",
    "        strng = string[:-1]\n",
    "        servs.append(strng.lower())\n",
    "    elif string == 'Home':\n",
    "        continue\n",
    "    else:\n",
    "        servs.append(string)\n",
    "\n",
    "print(servs)"
   ]
  },
  {
   "cell_type": "code",
   "execution_count": 52,
   "metadata": {},
   "outputs": [
    {
     "name": "stdout",
     "output_type": "stream",
     "text": [
      "[{'ServiceTitle': 'plumbing', 'allUrls': \"['https://www.pimlicoplumbers.com/services/plumbing/', 'https://www.pimlicoplumbers.com/services/plumbing/emergency/', 'https://www.pimlicoplumbers.com/services/plumbing/installation/', 'https://www.pimlicoplumbers.com/services/plumbing/repairs/', 'https://www.pimlicoplumbers.com/services/plumbing/damp-and-leak-detection/', 'https://www.pimlicoplumbers.com/services/plumbing/drain-blockages/', 'https://www.pimlicoplumbers.com/services/plumbing/pre-purchase-survey/']\"}, {'ServiceTitle': 'heating', 'allUrls': \"['https://www.pimlicoplumbers.com/services/heating/', 'https://www.pimlicoplumbers.com/services/heating/emergency/', 'https://www.pimlicoplumbers.com/services/heating/boilers/', 'https://www.pimlicoplumbers.com/services/heating/installation/', 'https://www.pimlicoplumbers.com/services/heating/maintenance/', 'https://www.pimlicoplumbers.com/services/heating/repairs/', 'https://www.pimlicoplumbers.com/services/heating/survey/']\"}, {'ServiceTitle': 'electrics', 'allUrls': '[]'}, {'ServiceTitle': 'drains', 'allUrls': \"['https://www.pimlicoplumbers.com/services/drains/', 'https://www.pimlicoplumbers.com/services/drains/emergency/', 'https://www.pimlicoplumbers.com/services/drains/blocked-drains/', 'https://www.pimlicoplumbers.com/services/drains/cctv-survey/', 'https://www.pimlicoplumbers.com/services/drains/clearance/', 'https://www.pimlicoplumbers.com/services/drains/cleaning/', 'https://www.pimlicoplumbers.com/services/drains/repairs/']\"}, {'ServiceTitle': 'carpentry', 'allUrls': \"['https://www.pimlicoplumbers.com/services/carpentry/', 'https://www.pimlicoplumbers.com/services/carpentry/doors/', 'https://www.pimlicoplumbers.com/services/carpentry/floors/', 'https://www.pimlicoplumbers.com/services/carpentry/windows/', 'https://www.pimlicoplumbers.com/services/carpentry/staircases/']\"}, {'ServiceTitle': 'roofing', 'allUrls': \"['https://www.pimlicoplumbers.com/services/roofing/', 'https://www.pimlicoplumbers.com/services/roofing/emergency/', 'https://www.pimlicoplumbers.com/services/roofing/repairs/', 'https://www.pimlicoplumbers.com/services/roofing/flat-roofs/', 'https://www.pimlicoplumbers.com/services/roofing/new-and-refurb/', 'https://www.pimlicoplumbers.com/services/roofing/inspection-survey/', 'https://www.pimlicoplumbers.com/services/roofing/guttering-and-facias/']\"}, {'ServiceTitle': 'building', 'allUrls': \"['https://www.pimlicoplumbers.com/services/building/', 'https://www.pimlicoplumbers.com/services/building/extractor-fans/', 'https://www.pimlicoplumbers.com/services/building/maintenance/', 'https://www.pimlicoplumbers.com/services/building/tiling/', 'https://www.pimlicoplumbers.com/services/building/painting-and-decorating/', 'https://www.pimlicoplumbers.com/services/building/plastering/', 'https://www.pimlicoplumbers.com/services/building/gardens/', 'https://www.pimlicoplumbers.com/services/building/small-works/']\"}, {'ServiceTitle': 'bathrooms', 'allUrls': \"['https://www.pimlicoplumbers.com/services/bathrooms/', 'https://www.pimlicoplumbers.com/services/bathrooms/fitting-and-repairs/']\"}, {'ServiceTitle': 'Handyman', 'allUrls': '[]'}, {'ServiceTitle': 'commercial', 'allUrls': \"['https://www.pimlicoplumbers.com/services/commercial/', 'https://www.pimlicoplumbers.com/services/commercial/drains/', 'https://www.pimlicoplumbers.com/services/commercial/electrical/', 'https://www.pimlicoplumbers.com/services/commercial/heating/', 'https://www.pimlicoplumbers.com/services/commercial/plumbing/']\"}]\n"
     ]
    }
   ],
   "source": [
    "service_info = []\n",
    "for i in servs:\n",
    "    urls = []\n",
    "    req_url = base_url+i\n",
    "    all_urls = menu.find_all('a', href = True)\n",
    "    for url in all_urls:\n",
    "        if req_url in url['href']:\n",
    "            urls.append(url['href'])\n",
    "    service_info.append({'ServiceTitle': f'{i}', 'allUrls':f'{urls}'})\n",
    "print(service_info)\n"
   ]
  },
  {
   "cell_type": "code",
   "execution_count": 109,
   "metadata": {},
   "outputs": [
    {
     "data": {
      "text/plain": [
       "200"
      ]
     },
     "execution_count": 109,
     "metadata": {},
     "output_type": "execute_result"
    }
   ],
   "source": [
    "response = requests.get('https://www.pimlicoplumbers.com/services/plumbing/emergency/')\n",
    "response.status_code"
   ]
  },
  {
   "cell_type": "code",
   "execution_count": 110,
   "metadata": {},
   "outputs": [
    {
     "name": "stdout",
     "output_type": "stream",
     "text": [
      "bf-acf-module banner banner-type-split\n",
      "bf-acf-module image-and-content spacing-spaced image-left\n",
      "bf-acf-module image-and-content spacing-spaced image-right\n",
      "bf-acf-module customer-testimonials\n",
      "bf-acf-module text-and-list\n",
      "bf-acf-module locations-plain-list\n"
     ]
    }
   ],
   "source": [
    "sections_to_find = ['bf-acf-module banner banner-type-split','bf-acf-module image-and-content','bf-acf-module services-grid','bf-acf-module customer-testimonials','bf-acf-module text-and-list','bf-acf-module locations-plain-list']\n",
    "soup = BeautifulSoup(response.content, 'lxml')\n",
    "main_content = soup.find('div', {'id':'content'})\n",
    "sections = []\n",
    "for section_class in sections_to_find:\n",
    "  found_sections = main_content.find_all('section', class_=lambda c: section_class in c)\n",
    "  sections.extend(found_sections)\n",
    "\n",
    "for section in sections:\n",
    "  section_name = \" \".join(section['class'])\n",
    "  print(section_name)"
   ]
  },
  {
   "cell_type": "code",
   "execution_count": 111,
   "metadata": {},
   "outputs": [
    {
     "name": "stdout",
     "output_type": "stream",
     "text": [
      "section class name : bf-acf-module banner banner-type-split\n",
      "{'Title': 'Emergency Plumbers providing 24/7 services across London', 'content': 'Do you have a plumbing emergency? Our team provide emergency plumbing services across London 24 hours a day, 365 days a year. No matter the time, our plumbers can be at your property within an hour, to professionally diagnose and resolve the problem.\\n', 'CallToAction': '\\nRequest Booking\\n', 'ImageUrl': 'https://www.pimlicoplumbers.com/wp-content/uploads/2022/08/Emergency-plumbing-desktop-banner.jpg'}\n"
     ]
    }
   ],
   "source": [
    "section_to_search = sections[0]\n",
    "class_name = \" \".join(section_to_search['class'])\n",
    "print(f\"section class name : {class_name}\")\n",
    "if \" \".join(section_to_search['class']) ==  'bf-acf-module banner banner-type-split':\n",
    "    title = section_to_search.find('h1')\n",
    "    title = title.text\n",
    "    content = section_to_search.find('p')\n",
    "    content = content.text\n",
    "    image = section_to_search.find('div', class_=lambda c: 'background-desktop' in c, style=True)\n",
    "    url_regex = r\"url\\('(.*?)'\\)\"\n",
    "    style_attr = image['style']\n",
    "    match = re.search(url_regex, style_attr)\n",
    "    img_url = match.group(1)\n",
    "    button = section_to_search.find('button')\n",
    "    button_exists = section_to_search.find('button') is not None\n",
    "    if button_exists:\n",
    "        button = section_to_search.find('button')\n",
    "        button_txt = button.text.strip()\n",
    "    else:\n",
    "        button_txt = None\n",
    "print({'Title':f'{title}', 'content':f'{content}', 'CallToAction':f'{button_txt}', 'ImageUrl':f'{img_url}'})"
   ]
  },
  {
   "cell_type": "code",
   "execution_count": 118,
   "metadata": {},
   "outputs": [
    {
     "name": "stdout",
     "output_type": "stream",
     "text": [
      "section class name : bf-acf-module image-and-content spacing-spaced image-right\n",
      "{'Title': 'Local emergency plumbing services', 'content': 'Time is of the essence when it comes to plumbing emergencies. So, it really helps to have a local plumber nearby to assess how quickly the issue can be managed and resolved.  Our emergency plumbers are stationed throughout London, providing first-class services to customers across all boroughs, including areas in and around the M25. So, wherever you’re based in London, you can rely on us to have an emergency plumber near you. ', 'CallToAction': 'Book your local emergency plumber', 'ImageUrl': 'https://www.pimlicoplumbers.com/wp-content/uploads/2022/07/Emergency-plumber-image-content.jpg'}\n"
     ]
    }
   ],
   "source": [
    "section_to_search = sections[2]\n",
    "class_name = \" \".join(section_to_search['class'])\n",
    "print(f\"section class name : {class_name}\")\n",
    "if 'bf-acf-module image-and-content' in \" \".join(section_to_search['class']):\n",
    "    title = section_to_search.find('h2')\n",
    "    title = title.text\n",
    "    contents = section_to_search.find('div',{'class':'content'})\n",
    "    text_content = []\n",
    "    for child in contents.children:\n",
    "        if child.text:\n",
    "            text_content.append(child.text.strip())\n",
    "    text = ' '.join(text_content)\n",
    "    img = section_to_search.find('img')\n",
    "    img_url = img['src']\n",
    "    button_exists = section_to_search.find('button') is not None\n",
    "    if button_exists:\n",
    "        button = section_to_search.find('button')\n",
    "        button_txt = button.text.strip()\n",
    "    else:\n",
    "        button_txt = None\n",
    "\n",
    "print({'Title':f'{title}', 'content':f'{text}', 'CallToAction':f'{button_txt}', 'ImageUrl':f'{img_url}'})"
   ]
  },
  {
   "cell_type": "code",
   "execution_count": 157,
   "metadata": {},
   "outputs": [
    {
     "name": "stdout",
     "output_type": "stream",
     "text": [
      "section class name : bf-acf-module customer-testimonials\n",
      "[\"Boiler replacement and radiator move very professional\\nJames and Andrew spent 2 days replacing the boiler and replumbing radiators. Highly professional approach, keeping all their equipment tidy, insuring all replacement work was of the highest standard and fully compliant. It's not cheap, but you get real peace of mind with the work done.\\nJamie\", 'Quick to reply and fix the issues in an expert manner\\nThe engineer was very experienced and sorted out the issues very soon. I am very happy with the services!\\nJoanne Tipping', 'So impressed\\nSo impressed - fantastic electrician Andrew fixed the kitchen under-cabinet lights that were flickering. He diagnosed and fixed the issue incredibly quickly, replacing the LED-driver unit with a brand new one and also fixed another electrical fault which he discovered.\\n\\nSuper friendly, professional and expert.\\n\\nHighly recommended 10/10\\nDaniel H', 'The level of service and the response time was amazing\\nThank you!\\nBella Lisovitskaya', 'Good service\\nUsed a locksmith from Pimlico who completed works to a high standard and was fully equipped. At the end, offered if there was anything other carpentry work they could do. Quite pricey but a no fuss experience so very worth it\\nLucas T', 'Pimlico Plumbers great\\nVery efficient and respond quickly. More expensive but work completed is very professional and reliable.\\nG Hay', 'Radiator Valves\\nInstalled a new hot water tap a few days ago and have also been to fix our heating. Drained the heating system and replaced 2 leaking radiator valves. Great job\\nJacqui', 'Pimlico Plumbers deserved 6 stars\\nPimlico Plumbers really offer a five star service. Their work is excellent, and you can trust their time estimates etc. We have used them several times and been satisfied every time, They are not the cheapest, but they get it right first time! All of the people I have met are pleasant, friendly and efficient.\\nMrs Armstrong', 'Excellent service\\nExcellent service. At the house with 30min and fixed the plumbing issue very quickly. Made sure everything is in order cleaned up and asked if I wanted anything else. Very polite and knew his stuff. no waiting time. strongly recommend\\nRicardo Honegger', 'Seamus is a superb 1st class electrician\\nSeamus is a superb 1st class electrician thorough, hardworking and concise in his work and communication.\\nMr Gardiner', 'Happy New Customer\\nExcellent service, arrived on time and hot water tap working perfectly. Would highly recommend and Mick was a star!\\nJacqui', 'I contacted Pimlico and 45 minutes later\\nI contacted Pimlico and Darren, a drains specialist arrived inside 45 minutes. Within another 45 minutes he’d found the cause of my drain blockage, cleared it and cleaned up after himself. Great service.\\nMike', 'The Best\\nAdam came out at short notice to help us. We’ve used PP before. The very best and worth the cost. The job is always done properly to the highest standard.\\nNicholas M', 'Annual gas check\\nAnnual gas check including boiler and gas fire place. The service received was excellent and the work was carried out in a very clean and timely manner by Pimlico Plumbers.\\nCustomer', 'My new boiler had developed a small but definite leak\\nContinuity of care is important to me, so it was a pleasure and a relief when Julian arrived to fix it.\\nI always appreciate his expertise and kindness .\\nDefinitely my knight in shining armour!\\nThanks Julian\\nRuth Butler', \"Excellent\\nCouldn't have been better - thank you\\nKarina Sauerland\", 'Excellent service\\nMy hot water stopped working in the morning, I called Pimlico and within 30 minutes the plumber had arrived. Lee was very cheerful and competent. He diagnosed the issues, purchased the required parts, and had everything installed & working before the end of the day. Great!\\nBen', 'Great service from Pimlico\\nWe needed a plumber to rectify a leak under the kitchen sink. The technician turned up exactly on time and put in a full days work. As part of this he replaced the incoming pipework, valves and flexible hoses which was necessary. His workmanship was excellent and we now have a proper, well laid out and installed water & waste system as opposed to the spaghetti that existed before. Service was excellent as it has been on previous occasions when we have used Pimlico.\\nSteve', 'Happy with Service\\nWe have been very happy with the service we have received - the problem we had has been explained to us and given us the correct information we needed to resolve the issue.\\nWill use again\\nSue', 'Quality craftsmanship and great customer service\\nI have used Pimlico Plumbers for a few jobs in the past few years (mostly plumbing and electrical). Their workers are always polite, friendly, and considerate. They take care of your property and belongings (e.g. taking their shoes off in the house, covering/protecting surfaces, and cleaning after the job). Their work is thorough, of quality, and they keep you up to date through out the process. I highly recommend Pimlico Plumbers.\\nAudrey', 'A completely outstanding job\\nJosh, Mike and Barry have done a completely outstanding job. In particular, I would highlight the attention to detail and quality of craftsmanship in the work implemented. All three take a real pride in doing a great job.\\nThank you for putting this team on my job.\\nD Robertson', 'They’re the true experts!\\nAs ever the adage about getting what you pay for is very true - and with Pimlico you are getting the absolute best quality of professionals. In all of my dealings with Pimlico, I’ve appreciated their transparency around estimates, their advice as they’ve worked with me to get what I want and stay within budget, as well as their positive attitudes - not to mention the work itself which I’ve found to be meticulous, organised, and considerate. I’d happily recommend Pimlico for anyone else considering minor or extensive bathroom renovations, or anything else for that matter - they’re the true experts!\\nA De Grunchy', 'I have no hesitation in recommending Pimlico\\nI recently completed a project with Pimlico which involved stripping two bathrooms and doing a full renovation of both. The project was completed on time, on budget, and to the highest professional standards. I am thrilled with the results.\\nThroughout the communication between myself, the contractor, and the Pimlico team was excellent. E-mails and phone calls were without exception responded to promptly, and where appropriate, action initiated.\\nI have no hesitation in recommending Pimlico, based on my experience.\\nMindy', 'Excellent service\\nExcellent service, had all the materials to replace my bathroom extractor fan. Same day service. As always very professional and efficient.\\nMiguel Municio', 'Skilled carpentry work\\nWe had Ed Jackson, a carpenter to undertake some works of repair to wooden flooring and install two shelves in a fitted cupboard. His work was excellent, he was a pleasure to have around and we shall certainly ask for him again.\\nCaroline', 'Highly experienced carpenter\\nThis carpenter was found to be most efficient in all aspects of the work that was carried out, and highly experienced.\\n']\n"
     ]
    }
   ],
   "source": [
    "section_to_search = sections[3]\n",
    "class_name = \" \".join(section_to_search['class'])\n",
    "print(f\"section class name : {class_name}\")\n",
    "if \" \".join(section_to_search['class']) ==  'bf-acf-module customer-testimonials':\n",
    "    title = section_to_search.find('h2')\n",
    "    title = title.text\n",
    "    img = section_to_search.find('img')\n",
    "    img_url = img['src']\n",
    "    testimonial_list = []\n",
    "    test_div = section_to_search.find('div',{'class':'splide__list'})\n",
    "    test_items = test_div.find_all('div', class_=lambda c: \"splide__slide testimonial-slide\" in c)\n",
    "    for item in test_items:\n",
    "        text = []\n",
    "        h5 = item.find('div',{'class':'h5-style testimonial-item-title'})\n",
    "        p = item.find('p',{'class':'testimonial-item-text'})\n",
    "        author = item.find('div',{'class':'small-title testimonial-item-author'})\n",
    "        text.append(h5.text.strip())\n",
    "        text.append(p.text.strip())\n",
    "        text.append(author.text.strip())\n",
    "        test_txt = \"\\n\".join(text)\n",
    "        testimonial_list.append(test_txt)\n"
   ]
  },
  {
   "cell_type": "code",
   "execution_count": null,
   "metadata": {},
   "outputs": [],
   "source": []
  }
 ],
 "metadata": {
  "kernelspec": {
   "display_name": "venv",
   "language": "python",
   "name": "python3"
  },
  "language_info": {
   "codemirror_mode": {
    "name": "ipython",
    "version": 3
   },
   "file_extension": ".py",
   "mimetype": "text/x-python",
   "name": "python",
   "nbconvert_exporter": "python",
   "pygments_lexer": "ipython3",
   "version": "3.11.6"
  }
 },
 "nbformat": 4,
 "nbformat_minor": 2
}
